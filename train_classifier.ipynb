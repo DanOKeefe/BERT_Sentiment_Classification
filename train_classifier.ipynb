{
  "nbformat": 4,
  "nbformat_minor": 0,
  "metadata": {
    "colab": {
      "name": "BERT_Binary_Classification.ipynb",
      "provenance": []
    },
    "kernelspec": {
      "name": "python3",
      "display_name": "Python 3"
    },
    "language_info": {
      "name": "python"
    },
    "accelerator": "GPU"
  },
  "cells": [
    {
      "cell_type": "code",
      "metadata": {
        "colab": {
          "base_uri": "https://localhost:8080/"
        },
        "id": "lJ_VssOxfnZ_",
        "outputId": "b9ef8b19-aa4a-4cb0-9970-b638b88b2a66"
      },
      "source": [
        "!pip install transformers"
      ],
      "execution_count": 1,
      "outputs": [
        {
          "output_type": "stream",
          "text": [
            "Requirement already satisfied: transformers in /usr/local/lib/python3.7/dist-packages (4.6.1)\n",
            "Requirement already satisfied: packaging in /usr/local/lib/python3.7/dist-packages (from transformers) (20.9)\n",
            "Requirement already satisfied: filelock in /usr/local/lib/python3.7/dist-packages (from transformers) (3.0.12)\n",
            "Requirement already satisfied: requests in /usr/local/lib/python3.7/dist-packages (from transformers) (2.23.0)\n",
            "Requirement already satisfied: regex!=2019.12.17 in /usr/local/lib/python3.7/dist-packages (from transformers) (2019.12.20)\n",
            "Requirement already satisfied: tqdm>=4.27 in /usr/local/lib/python3.7/dist-packages (from transformers) (4.41.1)\n",
            "Requirement already satisfied: huggingface-hub==0.0.8 in /usr/local/lib/python3.7/dist-packages (from transformers) (0.0.8)\n",
            "Requirement already satisfied: numpy>=1.17 in /usr/local/lib/python3.7/dist-packages (from transformers) (1.19.5)\n",
            "Requirement already satisfied: importlib-metadata; python_version < \"3.8\" in /usr/local/lib/python3.7/dist-packages (from transformers) (4.0.1)\n",
            "Requirement already satisfied: sacremoses in /usr/local/lib/python3.7/dist-packages (from transformers) (0.0.45)\n",
            "Requirement already satisfied: tokenizers<0.11,>=0.10.1 in /usr/local/lib/python3.7/dist-packages (from transformers) (0.10.3)\n",
            "Requirement already satisfied: pyparsing>=2.0.2 in /usr/local/lib/python3.7/dist-packages (from packaging->transformers) (2.4.7)\n",
            "Requirement already satisfied: idna<3,>=2.5 in /usr/local/lib/python3.7/dist-packages (from requests->transformers) (2.10)\n",
            "Requirement already satisfied: urllib3!=1.25.0,!=1.25.1,<1.26,>=1.21.1 in /usr/local/lib/python3.7/dist-packages (from requests->transformers) (1.24.3)\n",
            "Requirement already satisfied: certifi>=2017.4.17 in /usr/local/lib/python3.7/dist-packages (from requests->transformers) (2020.12.5)\n",
            "Requirement already satisfied: chardet<4,>=3.0.2 in /usr/local/lib/python3.7/dist-packages (from requests->transformers) (3.0.4)\n",
            "Requirement already satisfied: typing-extensions>=3.6.4; python_version < \"3.8\" in /usr/local/lib/python3.7/dist-packages (from importlib-metadata; python_version < \"3.8\"->transformers) (3.7.4.3)\n",
            "Requirement already satisfied: zipp>=0.5 in /usr/local/lib/python3.7/dist-packages (from importlib-metadata; python_version < \"3.8\"->transformers) (3.4.1)\n",
            "Requirement already satisfied: joblib in /usr/local/lib/python3.7/dist-packages (from sacremoses->transformers) (1.0.1)\n",
            "Requirement already satisfied: six in /usr/local/lib/python3.7/dist-packages (from sacremoses->transformers) (1.15.0)\n",
            "Requirement already satisfied: click in /usr/local/lib/python3.7/dist-packages (from sacremoses->transformers) (8.0.0)\n"
          ],
          "name": "stdout"
        }
      ]
    },
    {
      "cell_type": "code",
      "metadata": {
        "id": "x_3yLjGHD0fI"
      },
      "source": [
        "import torch\n",
        "import numpy as np\n",
        "import pandas as pd\n",
        "import pandas as pd\n",
        "from keras.models import Sequential\n",
        "from keras.layers import Input, Dense, Dropout\n",
        "from transformers import AutoTokenizer, AutoModel\n",
        "from sklearn.model_selection import train_test_split\n",
        "\n",
        "import matplotlib.pyplot as plt\n",
        "%matplotlib inline"
      ],
      "execution_count": 2,
      "outputs": []
    },
    {
      "cell_type": "code",
      "metadata": {
        "colab": {
          "base_uri": "https://localhost:8080/"
        },
        "id": "b39FJHBBtkHv",
        "outputId": "518c8b0b-d144-4a8e-c26d-398e36254756"
      },
      "source": [
        "tokenizer = AutoTokenizer.from_pretrained('google/bert_uncased_L-4_H-256_A-4')\n",
        "model = AutoModel.from_pretrained('google/bert_uncased_L-4_H-256_A-4')"
      ],
      "execution_count": 3,
      "outputs": [
        {
          "output_type": "stream",
          "text": [
            "Some weights of the model checkpoint at google/bert_uncased_L-4_H-256_A-4 were not used when initializing BertModel: ['cls.predictions.bias', 'cls.seq_relationship.bias', 'cls.seq_relationship.weight', 'cls.predictions.decoder.bias', 'cls.predictions.transform.LayerNorm.bias', 'cls.predictions.transform.dense.weight', 'cls.predictions.transform.dense.bias', 'cls.predictions.decoder.weight', 'cls.predictions.transform.LayerNorm.weight']\n",
            "- This IS expected if you are initializing BertModel from the checkpoint of a model trained on another task or with another architecture (e.g. initializing a BertForSequenceClassification model from a BertForPreTraining model).\n",
            "- This IS NOT expected if you are initializing BertModel from the checkpoint of a model that you expect to be exactly identical (initializing a BertForSequenceClassification model from a BertForSequenceClassification model).\n"
          ],
          "name": "stderr"
        }
      ]
    },
    {
      "cell_type": "markdown",
      "metadata": {
        "id": "sOV05Fdqg3sT"
      },
      "source": [
        "We have a dataset containing 10,000 restaurant reviews on Yelp. Each review contains a star rating field (1 to 5) and a text field where the user comments on their experience at the restaurant.\n",
        "\n",
        "3-star and 4-star reviewers aren't likely to promote the restaurant to friends and colleagues. Read more about [Net Promoter Scores](https://en.wikipedia.org/wiki/Net_Promoter). Ratings of less than 5 stars oftenly include a negative component explaining why the rating was not 5 stars.\n",
        "\n",
        "Classify star ratings of 1, 2, 3, and 4 as negative (0). \n",
        "\n",
        "Classify star ratings of  5 as positive (1)."
      ]
    },
    {
      "cell_type": "code",
      "metadata": {
        "colab": {
          "base_uri": "https://localhost:8080/"
        },
        "id": "Xukgg9E1gxUF",
        "outputId": "f1542b0b-348d-4c79-ec4f-d3b0895b01aa"
      },
      "source": [
        "df = pd.read_csv('https://raw.githubusercontent.com/mayank100sharma/Sentiment-Analysis-on-Yelp-Reviews/master/yelp.csv').head(4000)\n",
        "df['sentiment'] = df['stars'].map({1:0, 2:0, 3:0, 4:0, 5:1})\n",
        "df['sentiment'].value_counts()"
      ],
      "execution_count": 4,
      "outputs": [
        {
          "output_type": "execute_result",
          "data": {
            "text/plain": [
              "0    2654\n",
              "1    1346\n",
              "Name: sentiment, dtype: int64"
            ]
          },
          "metadata": {
            "tags": []
          },
          "execution_count": 4
        }
      ]
    },
    {
      "cell_type": "code",
      "metadata": {
        "id": "U3q_73KIkoyJ"
      },
      "source": [
        "max_len = 180\n",
        "df['text'] = df['text'].str.split(n=max_len).str[:max_len].str.join(' ')\n",
        "tokenized = df['text'].apply((lambda x: tokenizer.encode(x, add_special_tokens=True)))\n",
        "padded = np.array([i[:min(max_len, len(i))] + [0]*(max_len-min(max_len, len(i))) for i in tokenized.values])\n",
        "input = torch.tensor(padded)  \n",
        "attention_mask = np.where(padded != 0, 1, 0)\n",
        "attention_mask = torch.tensor(attention_mask)\n",
        "\n",
        "with torch.no_grad():\n",
        "    bert_output = model(input, attention_mask=attention_mask)\n",
        "\n",
        "features = np.array(bert_output[0][:,0,:])\n",
        "labels = np.array(df['sentiment'])\n",
        "\n",
        "X_train, X_test, y_train, y_test = train_test_split(features, labels)\n",
        "\n",
        "# Retrieve data from all sentences\n",
        "# Only retrieve the [CLS] token\n",
        "# Retrieve all units of output layer\n",
        "features = np.array(bert_output[0][:,0,:])\n",
        "labels = np.array(df['sentiment'])"
      ],
      "execution_count": 5,
      "outputs": []
    },
    {
      "cell_type": "code",
      "metadata": {
        "colab": {
          "base_uri": "https://localhost:8080/"
        },
        "id": "Sy0hJYhnWyKc",
        "outputId": "1d4b7221-a494-4269-83ef-c9532f6dc32b"
      },
      "source": [
        "classifier = Sequential()\n",
        "classifier.add(Input(shape=(256,)))\n",
        "classifier.add(Dense(1, activation='sigmoid'))\n",
        "classifier.summary()"
      ],
      "execution_count": 6,
      "outputs": [
        {
          "output_type": "stream",
          "text": [
            "Model: \"sequential\"\n",
            "_________________________________________________________________\n",
            "Layer (type)                 Output Shape              Param #   \n",
            "=================================================================\n",
            "dense (Dense)                (None, 1)                 257       \n",
            "=================================================================\n",
            "Total params: 257\n",
            "Trainable params: 257\n",
            "Non-trainable params: 0\n",
            "_________________________________________________________________\n"
          ],
          "name": "stdout"
        }
      ]
    },
    {
      "cell_type": "code",
      "metadata": {
        "id": "cILpPV18Nb2w"
      },
      "source": [
        "classifier.compile(loss='binary_crossentropy', optimizer='adam', metrics='accuracy')\n",
        "history = classifier.fit(X_train, y_train, epochs=16, validation_split=0.05, verbose=0, batch_size=64)"
      ],
      "execution_count": 7,
      "outputs": []
    },
    {
      "cell_type": "code",
      "metadata": {
        "colab": {
          "base_uri": "https://localhost:8080/",
          "height": 265
        },
        "id": "wrrSds-i1JRn",
        "outputId": "5f999edc-ec4a-4ca6-ea15-83fd6e4fb8f0"
      },
      "source": [
        "fig, ax = plt.subplots()\n",
        "ax.plot(history.history['loss'], label='train loss')\n",
        "ax.plot(history.history['val_loss'], label='val loss')\n",
        "ax.legend()\n",
        "plt.show()"
      ],
      "execution_count": 8,
      "outputs": [
        {
          "output_type": "display_data",
          "data": {
            "image/png": "[encoded data removed]",
            "text/plain": [
              "<Figure size 432x288 with 1 Axes>"
            ]
          },
          "metadata": {
            "tags": [],
            "needs_background": "light"
          }
        }
      ]
    },
    {
      "cell_type": "code",
      "metadata": {
        "colab": {
          "base_uri": "https://localhost:8080/"
        },
        "id": "iNrwQOHe0VFO",
        "outputId": "1ca45220-1279-4380-8339-aa2c3afe2072"
      },
      "source": [
        "loss, accuracy = classifier.evaluate(X_test, y_test)\n",
        "print(f'Accuracy: {round(100*accuracy, 1)}%')"
      ],
      "execution_count": 9,
      "outputs": [
        {
          "output_type": "stream",
          "text": [
            "32/32 [==============================] - 0s 2ms/step - loss: 0.5590 - accuracy: 0.7080\n",
            "Accuracy: 70.8%\n"
          ],
          "name": "stdout"
        }
      ]
    },
    {
      "cell_type": "markdown",
      "metadata": {
        "id": "PClbkl3aXeXG"
      },
      "source": [
        "### Test on new data"
      ]
    },
    {
      "cell_type": "code",
      "metadata": {
        "id": "0FwzFxBa01Gg",
        "colab": {
          "base_uri": "https://localhost:8080/"
        },
        "outputId": "5e7ed221-4f63-4af1-8881-ebf275927abd"
      },
      "source": [
        "sample = 'Our waiter took a long time. The food was cold. Overpriced.'\n",
        "sample_token = tokenizer.encode(sample, add_special_tokens=True)\n",
        "sample_padded = np.array(sample_token + [0]*(max_len-len(sample_token)))\n",
        "attention_mask = np.where(sample_padded != 0, 1, 0)\n",
        "\n",
        "sample_padded = np.reshape(sample_padded, newshape=(1,-1))\n",
        "attention_mask = np.reshape(attention_mask, newshape=(1,-1))\n",
        "\n",
        "input = torch.tensor(sample_padded)  \n",
        "attention_mask = torch.tensor(attention_mask)\n",
        "\n",
        "with torch.no_grad():\n",
        "    last_hidden_states = model(input, attention_mask=attention_mask)\n",
        "\n",
        "features = last_hidden_states[0][:,0,:].numpy()\n",
        "sample_prediction = classifier.predict(features)\n",
        "\n",
        "print(sample_prediction.flatten())\n",
        "if sample_prediction.flatten()[0] > 0.5:\n",
        "    print('Positive Sentiment')\n",
        "else:\n",
        "    print('Negative Sentiment')"
      ],
      "execution_count": 10,
      "outputs": [
        {
          "output_type": "stream",
          "text": [
            "[0.25377038]\n",
            "Negative Sentiment\n"
          ],
          "name": "stdout"
        }
      ]
    },
    {
      "cell_type": "markdown",
      "metadata": {
        "id": "TXk6lL0_rp9Z"
      },
      "source": [
        "Save the model"
      ]
    },
    {
      "cell_type": "code",
      "metadata": {
        "colab": {
          "base_uri": "https://localhost:8080/"
        },
        "id": "V8nJzcK9oDhK",
        "outputId": "6bf409ba-6244-47ad-bb24-bb1ce03bb3b2"
      },
      "source": [
        "classifier.save('drive/MyDrive/models')"
      ],
      "execution_count": 11,
      "outputs": [
        {
          "output_type": "stream",
          "text": [
            "INFO:tensorflow:Assets written to: drive/MyDrive/models/assets\n"
          ],
          "name": "stdout"
        }
      ]
    },
    {
      "cell_type": "code",
      "metadata": {
        "id": "Nsq5xeLDVt3d"
      },
      "source": [
        ""
      ],
      "execution_count": 11,
      "outputs": []
    }
  ]
}