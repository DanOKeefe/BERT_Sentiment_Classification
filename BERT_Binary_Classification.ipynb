{
  "nbformat": 4,
  "nbformat_minor": 0,
  "metadata": {
    "colab": {
      "name": "BERT_Binary_Classification.ipynb",
      "provenance": []
    },
    "kernelspec": {
      "name": "python3",
      "display_name": "Python 3"
    },
    "language_info": {
      "name": "python"
    },
    "accelerator": "GPU",
    "widgets": {
      "application/vnd.jupyter.widget-state+json": {
        "3910000c972a4f9fa125ac24baaf0025": {
          "model_module": "@jupyter-widgets/controls",
          "model_name": "HBoxModel",
          "state": {
            "_view_name": "HBoxView",
            "_dom_classes": [],
            "_model_name": "HBoxModel",
            "_view_module": "@jupyter-widgets/controls",
            "_model_module_version": "1.5.0",
            "_view_count": null,
            "_view_module_version": "1.5.0",
            "box_style": "",
            "layout": "IPY_MODEL_39d734093a974f8fbfab53a88303264b",
            "_model_module": "@jupyter-widgets/controls",
            "children": [
              "IPY_MODEL_7d96c96b948945c48142641067901591",
              "IPY_MODEL_b54d387152284aca88891aa890bfbd9b"
            ]
          }
        },
        "39d734093a974f8fbfab53a88303264b": {
          "model_module": "@jupyter-widgets/base",
          "model_name": "LayoutModel",
          "state": {
            "_view_name": "LayoutView",
            "grid_template_rows": null,
            "right": null,
            "justify_content": null,
            "_view_module": "@jupyter-widgets/base",
            "overflow": null,
            "_model_module_version": "1.2.0",
            "_view_count": null,
            "flex_flow": null,
            "width": null,
            "min_width": null,
            "border": null,
            "align_items": null,
            "bottom": null,
            "_model_module": "@jupyter-widgets/base",
            "top": null,
            "grid_column": null,
            "overflow_y": null,
            "overflow_x": null,
            "grid_auto_flow": null,
            "grid_area": null,
            "grid_template_columns": null,
            "flex": null,
            "_model_name": "LayoutModel",
            "justify_items": null,
            "grid_row": null,
            "max_height": null,
            "align_content": null,
            "visibility": null,
            "align_self": null,
            "height": null,
            "min_height": null,
            "padding": null,
            "grid_auto_rows": null,
            "grid_gap": null,
            "max_width": null,
            "order": null,
            "_view_module_version": "1.2.0",
            "grid_template_areas": null,
            "object_position": null,
            "object_fit": null,
            "grid_auto_columns": null,
            "margin": null,
            "display": null,
            "left": null
          }
        },
        "7d96c96b948945c48142641067901591": {
          "model_module": "@jupyter-widgets/controls",
          "model_name": "FloatProgressModel",
          "state": {
            "_view_name": "ProgressView",
            "style": "IPY_MODEL_9e11cfb79969462195a6777660cf56ab",
            "_dom_classes": [],
            "description": "Downloading: 100%",
            "_model_name": "FloatProgressModel",
            "bar_style": "success",
            "max": 383,
            "_view_module": "@jupyter-widgets/controls",
            "_model_module_version": "1.5.0",
            "value": 383,
            "_view_count": null,
            "_view_module_version": "1.5.0",
            "orientation": "horizontal",
            "min": 0,
            "description_tooltip": null,
            "_model_module": "@jupyter-widgets/controls",
            "layout": "IPY_MODEL_220b371c74e1489eb27e8938ae138e7a"
          }
        },
        "b54d387152284aca88891aa890bfbd9b": {
          "model_module": "@jupyter-widgets/controls",
          "model_name": "HTMLModel",
          "state": {
            "_view_name": "HTMLView",
            "style": "IPY_MODEL_c57356d5c75b4ea2b386a3a0da11f735",
            "_dom_classes": [],
            "description": "",
            "_model_name": "HTMLModel",
            "placeholder": "​",
            "_view_module": "@jupyter-widgets/controls",
            "_model_module_version": "1.5.0",
            "value": " 383/383 [00:00&lt;00:00, 1.50kB/s]",
            "_view_count": null,
            "_view_module_version": "1.5.0",
            "description_tooltip": null,
            "_model_module": "@jupyter-widgets/controls",
            "layout": "IPY_MODEL_ac96faf39d694fd2881f11f8ad7377a2"
          }
        },
        "9e11cfb79969462195a6777660cf56ab": {
          "model_module": "@jupyter-widgets/controls",
          "model_name": "ProgressStyleModel",
          "state": {
            "_view_name": "StyleView",
            "_model_name": "ProgressStyleModel",
            "description_width": "initial",
            "_view_module": "@jupyter-widgets/base",
            "_model_module_version": "1.5.0",
            "_view_count": null,
            "_view_module_version": "1.2.0",
            "bar_color": null,
            "_model_module": "@jupyter-widgets/controls"
          }
        },
        "220b371c74e1489eb27e8938ae138e7a": {
          "model_module": "@jupyter-widgets/base",
          "model_name": "LayoutModel",
          "state": {
            "_view_name": "LayoutView",
            "grid_template_rows": null,
            "right": null,
            "justify_content": null,
            "_view_module": "@jupyter-widgets/base",
            "overflow": null,
            "_model_module_version": "1.2.0",
            "_view_count": null,
            "flex_flow": null,
            "width": null,
            "min_width": null,
            "border": null,
            "align_items": null,
            "bottom": null,
            "_model_module": "@jupyter-widgets/base",
            "top": null,
            "grid_column": null,
            "overflow_y": null,
            "overflow_x": null,
            "grid_auto_flow": null,
            "grid_area": null,
            "grid_template_columns": null,
            "flex": null,
            "_model_name": "LayoutModel",
            "justify_items": null,
            "grid_row": null,
            "max_height": null,
            "align_content": null,
            "visibility": null,
            "align_self": null,
            "height": null,
            "min_height": null,
            "padding": null,
            "grid_auto_rows": null,
            "grid_gap": null,
            "max_width": null,
            "order": null,
            "_view_module_version": "1.2.0",
            "grid_template_areas": null,
            "object_position": null,
            "object_fit": null,
            "grid_auto_columns": null,
            "margin": null,
            "display": null,
            "left": null
          }
        },
        "c57356d5c75b4ea2b386a3a0da11f735": {
          "model_module": "@jupyter-widgets/controls",
          "model_name": "DescriptionStyleModel",
          "state": {
            "_view_name": "StyleView",
            "_model_name": "DescriptionStyleModel",
            "description_width": "",
            "_view_module": "@jupyter-widgets/base",
            "_model_module_version": "1.5.0",
            "_view_count": null,
            "_view_module_version": "1.2.0",
            "_model_module": "@jupyter-widgets/controls"
          }
        },
        "ac96faf39d694fd2881f11f8ad7377a2": {
          "model_module": "@jupyter-widgets/base",
          "model_name": "LayoutModel",
          "state": {
            "_view_name": "LayoutView",
            "grid_template_rows": null,
            "right": null,
            "justify_content": null,
            "_view_module": "@jupyter-widgets/base",
            "overflow": null,
            "_model_module_version": "1.2.0",
            "_view_count": null,
            "flex_flow": null,
            "width": null,
            "min_width": null,
            "border": null,
            "align_items": null,
            "bottom": null,
            "_model_module": "@jupyter-widgets/base",
            "top": null,
            "grid_column": null,
            "overflow_y": null,
            "overflow_x": null,
            "grid_auto_flow": null,
            "grid_area": null,
            "grid_template_columns": null,
            "flex": null,
            "_model_name": "LayoutModel",
            "justify_items": null,
            "grid_row": null,
            "max_height": null,
            "align_content": null,
            "visibility": null,
            "align_self": null,
            "height": null,
            "min_height": null,
            "padding": null,
            "grid_auto_rows": null,
            "grid_gap": null,
            "max_width": null,
            "order": null,
            "_view_module_version": "1.2.0",
            "grid_template_areas": null,
            "object_position": null,
            "object_fit": null,
            "grid_auto_columns": null,
            "margin": null,
            "display": null,
            "left": null
          }
        },
        "a907e27409574e3fa3cf99418c28cb10": {
          "model_module": "@jupyter-widgets/controls",
          "model_name": "HBoxModel",
          "state": {
            "_view_name": "HBoxView",
            "_dom_classes": [],
            "_model_name": "HBoxModel",
            "_view_module": "@jupyter-widgets/controls",
            "_model_module_version": "1.5.0",
            "_view_count": null,
            "_view_module_version": "1.5.0",
            "box_style": "",
            "layout": "IPY_MODEL_f42ce98847b64f95ac7a1b04b18cee15",
            "_model_module": "@jupyter-widgets/controls",
            "children": [
              "IPY_MODEL_38b3a5f2471f4e6ead85f6f53eec7d89",
              "IPY_MODEL_2cb55c30a12743dba8cfc024a3fdeb95"
            ]
          }
        },
        "f42ce98847b64f95ac7a1b04b18cee15": {
          "model_module": "@jupyter-widgets/base",
          "model_name": "LayoutModel",
          "state": {
            "_view_name": "LayoutView",
            "grid_template_rows": null,
            "right": null,
            "justify_content": null,
            "_view_module": "@jupyter-widgets/base",
            "overflow": null,
            "_model_module_version": "1.2.0",
            "_view_count": null,
            "flex_flow": null,
            "width": null,
            "min_width": null,
            "border": null,
            "align_items": null,
            "bottom": null,
            "_model_module": "@jupyter-widgets/base",
            "top": null,
            "grid_column": null,
            "overflow_y": null,
            "overflow_x": null,
            "grid_auto_flow": null,
            "grid_area": null,
            "grid_template_columns": null,
            "flex": null,
            "_model_name": "LayoutModel",
            "justify_items": null,
            "grid_row": null,
            "max_height": null,
            "align_content": null,
            "visibility": null,
            "align_self": null,
            "height": null,
            "min_height": null,
            "padding": null,
            "grid_auto_rows": null,
            "grid_gap": null,
            "max_width": null,
            "order": null,
            "_view_module_version": "1.2.0",
            "grid_template_areas": null,
            "object_position": null,
            "object_fit": null,
            "grid_auto_columns": null,
            "margin": null,
            "display": null,
            "left": null
          }
        },
        "38b3a5f2471f4e6ead85f6f53eec7d89": {
          "model_module": "@jupyter-widgets/controls",
          "model_name": "FloatProgressModel",
          "state": {
            "_view_name": "ProgressView",
            "style": "IPY_MODEL_0f352002569943bba90acd551bf358ca",
            "_dom_classes": [],
            "description": "Downloading: 100%",
            "_model_name": "FloatProgressModel",
            "bar_style": "success",
            "max": 231508,
            "_view_module": "@jupyter-widgets/controls",
            "_model_module_version": "1.5.0",
            "value": 231508,
            "_view_count": null,
            "_view_module_version": "1.5.0",
            "orientation": "horizontal",
            "min": 0,
            "description_tooltip": null,
            "_model_module": "@jupyter-widgets/controls",
            "layout": "IPY_MODEL_f5c3c0e920c54bd5b9390d2bfa539f24"
          }
        },
        "2cb55c30a12743dba8cfc024a3fdeb95": {
          "model_module": "@jupyter-widgets/controls",
          "model_name": "HTMLModel",
          "state": {
            "_view_name": "HTMLView",
            "style": "IPY_MODEL_b547cc5f2332445c97f7712e4a764a08",
            "_dom_classes": [],
            "description": "",
            "_model_name": "HTMLModel",
            "placeholder": "​",
            "_view_module": "@jupyter-widgets/controls",
            "_model_module_version": "1.5.0",
            "value": " 232k/232k [00:00&lt;00:00, 1.43MB/s]",
            "_view_count": null,
            "_view_module_version": "1.5.0",
            "description_tooltip": null,
            "_model_module": "@jupyter-widgets/controls",
            "layout": "IPY_MODEL_fcb546b8f4e147c692962bad0edf2742"
          }
        },
        "0f352002569943bba90acd551bf358ca": {
          "model_module": "@jupyter-widgets/controls",
          "model_name": "ProgressStyleModel",
          "state": {
            "_view_name": "StyleView",
            "_model_name": "ProgressStyleModel",
            "description_width": "initial",
            "_view_module": "@jupyter-widgets/base",
            "_model_module_version": "1.5.0",
            "_view_count": null,
            "_view_module_version": "1.2.0",
            "bar_color": null,
            "_model_module": "@jupyter-widgets/controls"
          }
        },
        "f5c3c0e920c54bd5b9390d2bfa539f24": {
          "model_module": "@jupyter-widgets/base",
          "model_name": "LayoutModel",
          "state": {
            "_view_name": "LayoutView",
            "grid_template_rows": null,
            "right": null,
            "justify_content": null,
            "_view_module": "@jupyter-widgets/base",
            "overflow": null,
            "_model_module_version": "1.2.0",
            "_view_count": null,
            "flex_flow": null,
            "width": null,
            "min_width": null,
            "border": null,
            "align_items": null,
            "bottom": null,
            "_model_module": "@jupyter-widgets/base",
            "top": null,
            "grid_column": null,
            "overflow_y": null,
            "overflow_x": null,
            "grid_auto_flow": null,
            "grid_area": null,
            "grid_template_columns": null,
            "flex": null,
            "_model_name": "LayoutModel",
            "justify_items": null,
            "grid_row": null,
            "max_height": null,
            "align_content": null,
            "visibility": null,
            "align_self": null,
            "height": null,
            "min_height": null,
            "padding": null,
            "grid_auto_rows": null,
            "grid_gap": null,
            "max_width": null,
            "order": null,
            "_view_module_version": "1.2.0",
            "grid_template_areas": null,
            "object_position": null,
            "object_fit": null,
            "grid_auto_columns": null,
            "margin": null,
            "display": null,
            "left": null
          }
        },
        "b547cc5f2332445c97f7712e4a764a08": {
          "model_module": "@jupyter-widgets/controls",
          "model_name": "DescriptionStyleModel",
          "state": {
            "_view_name": "StyleView",
            "_model_name": "DescriptionStyleModel",
            "description_width": "",
            "_view_module": "@jupyter-widgets/base",
            "_model_module_version": "1.5.0",
            "_view_count": null,
            "_view_module_version": "1.2.0",
            "_model_module": "@jupyter-widgets/controls"
          }
        },
        "fcb546b8f4e147c692962bad0edf2742": {
          "model_module": "@jupyter-widgets/base",
          "model_name": "LayoutModel",
          "state": {
            "_view_name": "LayoutView",
            "grid_template_rows": null,
            "right": null,
            "justify_content": null,
            "_view_module": "@jupyter-widgets/base",
            "overflow": null,
            "_model_module_version": "1.2.0",
            "_view_count": null,
            "flex_flow": null,
            "width": null,
            "min_width": null,
            "border": null,
            "align_items": null,
            "bottom": null,
            "_model_module": "@jupyter-widgets/base",
            "top": null,
            "grid_column": null,
            "overflow_y": null,
            "overflow_x": null,
            "grid_auto_flow": null,
            "grid_area": null,
            "grid_template_columns": null,
            "flex": null,
            "_model_name": "LayoutModel",
            "justify_items": null,
            "grid_row": null,
            "max_height": null,
            "align_content": null,
            "visibility": null,
            "align_self": null,
            "height": null,
            "min_height": null,
            "padding": null,
            "grid_auto_rows": null,
            "grid_gap": null,
            "max_width": null,
            "order": null,
            "_view_module_version": "1.2.0",
            "grid_template_areas": null,
            "object_position": null,
            "object_fit": null,
            "grid_auto_columns": null,
            "margin": null,
            "display": null,
            "left": null
          }
        },
        "b347c1d6f39448239168c2dc049e5ec7": {
          "model_module": "@jupyter-widgets/controls",
          "model_name": "HBoxModel",
          "state": {
            "_view_name": "HBoxView",
            "_dom_classes": [],
            "_model_name": "HBoxModel",
            "_view_module": "@jupyter-widgets/controls",
            "_model_module_version": "1.5.0",
            "_view_count": null,
            "_view_module_version": "1.5.0",
            "box_style": "",
            "layout": "IPY_MODEL_dbcfd561e32b46a0a5f2705103f247fb",
            "_model_module": "@jupyter-widgets/controls",
            "children": [
              "IPY_MODEL_94568b90ea874664a9ac4d631c4cd9e3",
              "IPY_MODEL_7e6aa2eaaca744a7a7a16d93d4c39fc5"
            ]
          }
        },
        "dbcfd561e32b46a0a5f2705103f247fb": {
          "model_module": "@jupyter-widgets/base",
          "model_name": "LayoutModel",
          "state": {
            "_view_name": "LayoutView",
            "grid_template_rows": null,
            "right": null,
            "justify_content": null,
            "_view_module": "@jupyter-widgets/base",
            "overflow": null,
            "_model_module_version": "1.2.0",
            "_view_count": null,
            "flex_flow": null,
            "width": null,
            "min_width": null,
            "border": null,
            "align_items": null,
            "bottom": null,
            "_model_module": "@jupyter-widgets/base",
            "top": null,
            "grid_column": null,
            "overflow_y": null,
            "overflow_x": null,
            "grid_auto_flow": null,
            "grid_area": null,
            "grid_template_columns": null,
            "flex": null,
            "_model_name": "LayoutModel",
            "justify_items": null,
            "grid_row": null,
            "max_height": null,
            "align_content": null,
            "visibility": null,
            "align_self": null,
            "height": null,
            "min_height": null,
            "padding": null,
            "grid_auto_rows": null,
            "grid_gap": null,
            "max_width": null,
            "order": null,
            "_view_module_version": "1.2.0",
            "grid_template_areas": null,
            "object_position": null,
            "object_fit": null,
            "grid_auto_columns": null,
            "margin": null,
            "display": null,
            "left": null
          }
        },
        "94568b90ea874664a9ac4d631c4cd9e3": {
          "model_module": "@jupyter-widgets/controls",
          "model_name": "FloatProgressModel",
          "state": {
            "_view_name": "ProgressView",
            "style": "IPY_MODEL_4a471996cfdb4d01b4031411aeb46acb",
            "_dom_classes": [],
            "description": "Downloading: 100%",
            "_model_name": "FloatProgressModel",
            "bar_style": "success",
            "max": 45088961,
            "_view_module": "@jupyter-widgets/controls",
            "_model_module_version": "1.5.0",
            "value": 45088961,
            "_view_count": null,
            "_view_module_version": "1.5.0",
            "orientation": "horizontal",
            "min": 0,
            "description_tooltip": null,
            "_model_module": "@jupyter-widgets/controls",
            "layout": "IPY_MODEL_e924ee5fe9b645518a9220bbe1a393aa"
          }
        },
        "7e6aa2eaaca744a7a7a16d93d4c39fc5": {
          "model_module": "@jupyter-widgets/controls",
          "model_name": "HTMLModel",
          "state": {
            "_view_name": "HTMLView",
            "style": "IPY_MODEL_aadd65af007b4e67b11342bd21df5057",
            "_dom_classes": [],
            "description": "",
            "_model_name": "HTMLModel",
            "placeholder": "​",
            "_view_module": "@jupyter-widgets/controls",
            "_model_module_version": "1.5.0",
            "value": " 45.1M/45.1M [00:01&lt;00:00, 39.5MB/s]",
            "_view_count": null,
            "_view_module_version": "1.5.0",
            "description_tooltip": null,
            "_model_module": "@jupyter-widgets/controls",
            "layout": "IPY_MODEL_fdde4b08a77f4ba0bfec9ce1ad87fe75"
          }
        },
        "4a471996cfdb4d01b4031411aeb46acb": {
          "model_module": "@jupyter-widgets/controls",
          "model_name": "ProgressStyleModel",
          "state": {
            "_view_name": "StyleView",
            "_model_name": "ProgressStyleModel",
            "description_width": "initial",
            "_view_module": "@jupyter-widgets/base",
            "_model_module_version": "1.5.0",
            "_view_count": null,
            "_view_module_version": "1.2.0",
            "bar_color": null,
            "_model_module": "@jupyter-widgets/controls"
          }
        },
        "e924ee5fe9b645518a9220bbe1a393aa": {
          "model_module": "@jupyter-widgets/base",
          "model_name": "LayoutModel",
          "state": {
            "_view_name": "LayoutView",
            "grid_template_rows": null,
            "right": null,
            "justify_content": null,
            "_view_module": "@jupyter-widgets/base",
            "overflow": null,
            "_model_module_version": "1.2.0",
            "_view_count": null,
            "flex_flow": null,
            "width": null,
            "min_width": null,
            "border": null,
            "align_items": null,
            "bottom": null,
            "_model_module": "@jupyter-widgets/base",
            "top": null,
            "grid_column": null,
            "overflow_y": null,
            "overflow_x": null,
            "grid_auto_flow": null,
            "grid_area": null,
            "grid_template_columns": null,
            "flex": null,
            "_model_name": "LayoutModel",
            "justify_items": null,
            "grid_row": null,
            "max_height": null,
            "align_content": null,
            "visibility": null,
            "align_self": null,
            "height": null,
            "min_height": null,
            "padding": null,
            "grid_auto_rows": null,
            "grid_gap": null,
            "max_width": null,
            "order": null,
            "_view_module_version": "1.2.0",
            "grid_template_areas": null,
            "object_position": null,
            "object_fit": null,
            "grid_auto_columns": null,
            "margin": null,
            "display": null,
            "left": null
          }
        },
        "aadd65af007b4e67b11342bd21df5057": {
          "model_module": "@jupyter-widgets/controls",
          "model_name": "DescriptionStyleModel",
          "state": {
            "_view_name": "StyleView",
            "_model_name": "DescriptionStyleModel",
            "description_width": "",
            "_view_module": "@jupyter-widgets/base",
            "_model_module_version": "1.5.0",
            "_view_count": null,
            "_view_module_version": "1.2.0",
            "_model_module": "@jupyter-widgets/controls"
          }
        },
        "fdde4b08a77f4ba0bfec9ce1ad87fe75": {
          "model_module": "@jupyter-widgets/base",
          "model_name": "LayoutModel",
          "state": {
            "_view_name": "LayoutView",
            "grid_template_rows": null,
            "right": null,
            "justify_content": null,
            "_view_module": "@jupyter-widgets/base",
            "overflow": null,
            "_model_module_version": "1.2.0",
            "_view_count": null,
            "flex_flow": null,
            "width": null,
            "min_width": null,
            "border": null,
            "align_items": null,
            "bottom": null,
            "_model_module": "@jupyter-widgets/base",
            "top": null,
            "grid_column": null,
            "overflow_y": null,
            "overflow_x": null,
            "grid_auto_flow": null,
            "grid_area": null,
            "grid_template_columns": null,
            "flex": null,
            "_model_name": "LayoutModel",
            "justify_items": null,
            "grid_row": null,
            "max_height": null,
            "align_content": null,
            "visibility": null,
            "align_self": null,
            "height": null,
            "min_height": null,
            "padding": null,
            "grid_auto_rows": null,
            "grid_gap": null,
            "max_width": null,
            "order": null,
            "_view_module_version": "1.2.0",
            "grid_template_areas": null,
            "object_position": null,
            "object_fit": null,
            "grid_auto_columns": null,
            "margin": null,
            "display": null,
            "left": null
          }
        }
      }
    }
  },
  "cells": [
    {
      "cell_type": "code",
      "metadata": {
        "colab": {
          "base_uri": "https://localhost:8080/"
        },
        "id": "lJ_VssOxfnZ_",
        "outputId": "aa0fa846-9d81-4aab-976d-66fa37706280"
      },
      "source": [
        "!pip install transformers"
      ],
      "execution_count": null,
      "outputs": [
        {
          "output_type": "stream",
          "text": [
            "Collecting transformers\n",
            "\u001b[?25l  Downloading https://files.pythonhosted.org/packages/d5/43/cfe4ee779bbd6a678ac6a97c5a5cdeb03c35f9eaebbb9720b036680f9a2d/transformers-4.6.1-py3-none-any.whl (2.2MB)\n",
            "\r\u001b[K     |▏                               | 10kB 24.2MB/s eta 0:00:01\r\u001b[K     |▎                               | 20kB 31.2MB/s eta 0:00:01\r\u001b[K     |▍                               | 30kB 36.3MB/s eta 0:00:01\r\u001b[K     |▋                               | 40kB 30.1MB/s eta 0:00:01\r\u001b[K     |▊                               | 51kB 29.7MB/s eta 0:00:01\r\u001b[K     |▉                               | 61kB 31.1MB/s eta 0:00:01\r\u001b[K     |█                               | 71kB 32.4MB/s eta 0:00:01\r\u001b[K     |█▏                              | 81kB 27.4MB/s eta 0:00:01\r\u001b[K     |█▎                              | 92kB 29.0MB/s eta 0:00:01\r\u001b[K     |█▌                              | 102kB 26.7MB/s eta 0:00:01\r\u001b[K     |█▋                              | 112kB 26.7MB/s eta 0:00:01\r\u001b[K     |█▊                              | 122kB 26.7MB/s eta 0:00:01\r\u001b[K     |██                              | 133kB 26.7MB/s eta 0:00:01\r\u001b[K     |██                              | 143kB 26.7MB/s eta 0:00:01\r\u001b[K     |██▏                             | 153kB 26.7MB/s eta 0:00:01\r\u001b[K     |██▎                             | 163kB 26.7MB/s eta 0:00:01\r\u001b[K     |██▌                             | 174kB 26.7MB/s eta 0:00:01\r\u001b[K     |██▋                             | 184kB 26.7MB/s eta 0:00:01\r\u001b[K     |██▊                             | 194kB 26.7MB/s eta 0:00:01\r\u001b[K     |███                             | 204kB 26.7MB/s eta 0:00:01\r\u001b[K     |███                             | 215kB 26.7MB/s eta 0:00:01\r\u001b[K     |███▏                            | 225kB 26.7MB/s eta 0:00:01\r\u001b[K     |███▍                            | 235kB 26.7MB/s eta 0:00:01\r\u001b[K     |███▌                            | 245kB 26.7MB/s eta 0:00:01\r\u001b[K     |███▋                            | 256kB 26.7MB/s eta 0:00:01\r\u001b[K     |███▉                            | 266kB 26.7MB/s eta 0:00:01\r\u001b[K     |████                            | 276kB 26.7MB/s eta 0:00:01\r\u001b[K     |████                            | 286kB 26.7MB/s eta 0:00:01\r\u001b[K     |████▎                           | 296kB 26.7MB/s eta 0:00:01\r\u001b[K     |████▍                           | 307kB 26.7MB/s eta 0:00:01\r\u001b[K     |████▌                           | 317kB 26.7MB/s eta 0:00:01\r\u001b[K     |████▋                           | 327kB 26.7MB/s eta 0:00:01\r\u001b[K     |████▉                           | 337kB 26.7MB/s eta 0:00:01\r\u001b[K     |█████                           | 348kB 26.7MB/s eta 0:00:01\r\u001b[K     |█████                           | 358kB 26.7MB/s eta 0:00:01\r\u001b[K     |█████▎                          | 368kB 26.7MB/s eta 0:00:01\r\u001b[K     |█████▍                          | 378kB 26.7MB/s eta 0:00:01\r\u001b[K     |█████▌                          | 389kB 26.7MB/s eta 0:00:01\r\u001b[K     |█████▊                          | 399kB 26.7MB/s eta 0:00:01\r\u001b[K     |█████▉                          | 409kB 26.7MB/s eta 0:00:01\r\u001b[K     |██████                          | 419kB 26.7MB/s eta 0:00:01\r\u001b[K     |██████▏                         | 430kB 26.7MB/s eta 0:00:01\r\u001b[K     |██████▎                         | 440kB 26.7MB/s eta 0:00:01\r\u001b[K     |██████▍                         | 450kB 26.7MB/s eta 0:00:01\r\u001b[K     |██████▌                         | 460kB 26.7MB/s eta 0:00:01\r\u001b[K     |██████▊                         | 471kB 26.7MB/s eta 0:00:01\r\u001b[K     |██████▉                         | 481kB 26.7MB/s eta 0:00:01\r\u001b[K     |███████                         | 491kB 26.7MB/s eta 0:00:01\r\u001b[K     |███████▏                        | 501kB 26.7MB/s eta 0:00:01\r\u001b[K     |███████▎                        | 512kB 26.7MB/s eta 0:00:01\r\u001b[K     |███████▍                        | 522kB 26.7MB/s eta 0:00:01\r\u001b[K     |███████▋                        | 532kB 26.7MB/s eta 0:00:01\r\u001b[K     |███████▊                        | 542kB 26.7MB/s eta 0:00:01\r\u001b[K     |███████▉                        | 552kB 26.7MB/s eta 0:00:01\r\u001b[K     |████████                        | 563kB 26.7MB/s eta 0:00:01\r\u001b[K     |████████▏                       | 573kB 26.7MB/s eta 0:00:01\r\u001b[K     |████████▎                       | 583kB 26.7MB/s eta 0:00:01\r\u001b[K     |████████▌                       | 593kB 26.7MB/s eta 0:00:01\r\u001b[K     |████████▋                       | 604kB 26.7MB/s eta 0:00:01\r\u001b[K     |████████▊                       | 614kB 26.7MB/s eta 0:00:01\r\u001b[K     |████████▉                       | 624kB 26.7MB/s eta 0:00:01\r\u001b[K     |█████████                       | 634kB 26.7MB/s eta 0:00:01\r\u001b[K     |█████████▏                      | 645kB 26.7MB/s eta 0:00:01\r\u001b[K     |█████████▎                      | 655kB 26.7MB/s eta 0:00:01\r\u001b[K     |█████████▌                      | 665kB 26.7MB/s eta 0:00:01\r\u001b[K     |█████████▋                      | 675kB 26.7MB/s eta 0:00:01\r\u001b[K     |█████████▊                      | 686kB 26.7MB/s eta 0:00:01\r\u001b[K     |██████████                      | 696kB 26.7MB/s eta 0:00:01\r\u001b[K     |██████████                      | 706kB 26.7MB/s eta 0:00:01\r\u001b[K     |██████████▏                     | 716kB 26.7MB/s eta 0:00:01\r\u001b[K     |██████████▍                     | 727kB 26.7MB/s eta 0:00:01\r\u001b[K     |██████████▌                     | 737kB 26.7MB/s eta 0:00:01\r\u001b[K     |██████████▋                     | 747kB 26.7MB/s eta 0:00:01\r\u001b[K     |██████████▉                     | 757kB 26.7MB/s eta 0:00:01\r\u001b[K     |███████████                     | 768kB 26.7MB/s eta 0:00:01\r\u001b[K     |███████████                     | 778kB 26.7MB/s eta 0:00:01\r\u001b[K     |███████████▏                    | 788kB 26.7MB/s eta 0:00:01\r\u001b[K     |███████████▍                    | 798kB 26.7MB/s eta 0:00:01\r\u001b[K     |███████████▌                    | 808kB 26.7MB/s eta 0:00:01\r\u001b[K     |███████████▋                    | 819kB 26.7MB/s eta 0:00:01\r\u001b[K     |███████████▉                    | 829kB 26.7MB/s eta 0:00:01\r\u001b[K     |████████████                    | 839kB 26.7MB/s eta 0:00:01\r\u001b[K     |████████████                    | 849kB 26.7MB/s eta 0:00:01\r\u001b[K     |████████████▎                   | 860kB 26.7MB/s eta 0:00:01\r\u001b[K     |████████████▍                   | 870kB 26.7MB/s eta 0:00:01\r\u001b[K     |████████████▌                   | 880kB 26.7MB/s eta 0:00:01\r\u001b[K     |████████████▊                   | 890kB 26.7MB/s eta 0:00:01\r\u001b[K     |████████████▉                   | 901kB 26.7MB/s eta 0:00:01\r\u001b[K     |█████████████                   | 911kB 26.7MB/s eta 0:00:01\r\u001b[K     |█████████████                   | 921kB 26.7MB/s eta 0:00:01\r\u001b[K     |█████████████▎                  | 931kB 26.7MB/s eta 0:00:01\r\u001b[K     |█████████████▍                  | 942kB 26.7MB/s eta 0:00:01\r\u001b[K     |█████████████▌                  | 952kB 26.7MB/s eta 0:00:01\r\u001b[K     |█████████████▊                  | 962kB 26.7MB/s eta 0:00:01\r\u001b[K     |█████████████▉                  | 972kB 26.7MB/s eta 0:00:01\r\u001b[K     |██████████████                  | 983kB 26.7MB/s eta 0:00:01\r\u001b[K     |██████████████▏                 | 993kB 26.7MB/s eta 0:00:01\r\u001b[K     |██████████████▎                 | 1.0MB 26.7MB/s eta 0:00:01\r\u001b[K     |██████████████▍                 | 1.0MB 26.7MB/s eta 0:00:01\r\u001b[K     |██████████████▋                 | 1.0MB 26.7MB/s eta 0:00:01\r\u001b[K     |██████████████▊                 | 1.0MB 26.7MB/s eta 0:00:01\r\u001b[K     |██████████████▉                 | 1.0MB 26.7MB/s eta 0:00:01\r\u001b[K     |███████████████                 | 1.1MB 26.7MB/s eta 0:00:01\r\u001b[K     |███████████████▏                | 1.1MB 26.7MB/s eta 0:00:01\r\u001b[K     |███████████████▎                | 1.1MB 26.7MB/s eta 0:00:01\r\u001b[K     |███████████████▍                | 1.1MB 26.7MB/s eta 0:00:01\r\u001b[K     |███████████████▋                | 1.1MB 26.7MB/s eta 0:00:01\r\u001b[K     |███████████████▊                | 1.1MB 26.7MB/s eta 0:00:01\r\u001b[K     |███████████████▉                | 1.1MB 26.7MB/s eta 0:00:01\r\u001b[K     |████████████████                | 1.1MB 26.7MB/s eta 0:00:01\r\u001b[K     |████████████████▏               | 1.1MB 26.7MB/s eta 0:00:01\r\u001b[K     |████████████████▎               | 1.1MB 26.7MB/s eta 0:00:01\r\u001b[K     |████████████████▌               | 1.2MB 26.7MB/s eta 0:00:01\r\u001b[K     |████████████████▋               | 1.2MB 26.7MB/s eta 0:00:01\r\u001b[K     |████████████████▊               | 1.2MB 26.7MB/s eta 0:00:01\r\u001b[K     |█████████████████               | 1.2MB 26.7MB/s eta 0:00:01\r\u001b[K     |█████████████████               | 1.2MB 26.7MB/s eta 0:00:01\r\u001b[K     |█████████████████▏              | 1.2MB 26.7MB/s eta 0:00:01\r\u001b[K     |█████████████████▎              | 1.2MB 26.7MB/s eta 0:00:01\r\u001b[K     |█████████████████▌              | 1.2MB 26.7MB/s eta 0:00:01\r\u001b[K     |█████████████████▋              | 1.2MB 26.7MB/s eta 0:00:01\r\u001b[K     |█████████████████▊              | 1.2MB 26.7MB/s eta 0:00:01\r\u001b[K     |██████████████████              | 1.3MB 26.7MB/s eta 0:00:01\r\u001b[K     |██████████████████              | 1.3MB 26.7MB/s eta 0:00:01\r\u001b[K     |██████████████████▏             | 1.3MB 26.7MB/s eta 0:00:01\r\u001b[K     |██████████████████▍             | 1.3MB 26.7MB/s eta 0:00:01\r\u001b[K     |██████████████████▌             | 1.3MB 26.7MB/s eta 0:00:01\r\u001b[K     |██████████████████▋             | 1.3MB 26.7MB/s eta 0:00:01\r\u001b[K     |██████████████████▉             | 1.3MB 26.7MB/s eta 0:00:01\r\u001b[K     |███████████████████             | 1.3MB 26.7MB/s eta 0:00:01\r\u001b[K     |███████████████████             | 1.3MB 26.7MB/s eta 0:00:01\r\u001b[K     |███████████████████▎            | 1.4MB 26.7MB/s eta 0:00:01\r\u001b[K     |███████████████████▍            | 1.4MB 26.7MB/s eta 0:00:01\r\u001b[K     |███████████████████▌            | 1.4MB 26.7MB/s eta 0:00:01\r\u001b[K     |███████████████████▋            | 1.4MB 26.7MB/s eta 0:00:01\r\u001b[K     |███████████████████▉            | 1.4MB 26.7MB/s eta 0:00:01\r\u001b[K     |████████████████████            | 1.4MB 26.7MB/s eta 0:00:01\r\u001b[K     |████████████████████            | 1.4MB 26.7MB/s eta 0:00:01\r\u001b[K     |████████████████████▎           | 1.4MB 26.7MB/s eta 0:00:01\r\u001b[K     |████████████████████▍           | 1.4MB 26.7MB/s eta 0:00:01\r\u001b[K     |████████████████████▌           | 1.4MB 26.7MB/s eta 0:00:01\r\u001b[K     |████████████████████▊           | 1.5MB 26.7MB/s eta 0:00:01\r\u001b[K     |████████████████████▉           | 1.5MB 26.7MB/s eta 0:00:01\r\u001b[K     |█████████████████████           | 1.5MB 26.7MB/s eta 0:00:01\r\u001b[K     |█████████████████████▏          | 1.5MB 26.7MB/s eta 0:00:01\r\u001b[K     |█████████████████████▎          | 1.5MB 26.7MB/s eta 0:00:01\r\u001b[K     |█████████████████████▍          | 1.5MB 26.7MB/s eta 0:00:01\r\u001b[K     |█████████████████████▋          | 1.5MB 26.7MB/s eta 0:00:01\r\u001b[K     |█████████████████████▊          | 1.5MB 26.7MB/s eta 0:00:01\r\u001b[K     |█████████████████████▉          | 1.5MB 26.7MB/s eta 0:00:01\r\u001b[K     |██████████████████████          | 1.5MB 26.7MB/s eta 0:00:01\r\u001b[K     |██████████████████████▏         | 1.6MB 26.7MB/s eta 0:00:01\r\u001b[K     |██████████████████████▎         | 1.6MB 26.7MB/s eta 0:00:01\r\u001b[K     |██████████████████████▍         | 1.6MB 26.7MB/s eta 0:00:01\r\u001b[K     |██████████████████████▋         | 1.6MB 26.7MB/s eta 0:00:01\r\u001b[K     |██████████████████████▊         | 1.6MB 26.7MB/s eta 0:00:01\r\u001b[K     |██████████████████████▉         | 1.6MB 26.7MB/s eta 0:00:01\r\u001b[K     |███████████████████████         | 1.6MB 26.7MB/s eta 0:00:01\r\u001b[K     |███████████████████████▏        | 1.6MB 26.7MB/s eta 0:00:01\r\u001b[K     |███████████████████████▎        | 1.6MB 26.7MB/s eta 0:00:01\r\u001b[K     |███████████████████████▌        | 1.6MB 26.7MB/s eta 0:00:01\r\u001b[K     |███████████████████████▋        | 1.7MB 26.7MB/s eta 0:00:01\r\u001b[K     |███████████████████████▊        | 1.7MB 26.7MB/s eta 0:00:01\r\u001b[K     |███████████████████████▉        | 1.7MB 26.7MB/s eta 0:00:01\r\u001b[K     |████████████████████████        | 1.7MB 26.7MB/s eta 0:00:01\r\u001b[K     |████████████████████████▏       | 1.7MB 26.7MB/s eta 0:00:01\r\u001b[K     |████████████████████████▎       | 1.7MB 26.7MB/s eta 0:00:01\r\u001b[K     |████████████████████████▌       | 1.7MB 26.7MB/s eta 0:00:01\r\u001b[K     |████████████████████████▋       | 1.7MB 26.7MB/s eta 0:00:01\r\u001b[K     |████████████████████████▊       | 1.7MB 26.7MB/s eta 0:00:01\r\u001b[K     |█████████████████████████       | 1.8MB 26.7MB/s eta 0:00:01\r\u001b[K     |█████████████████████████       | 1.8MB 26.7MB/s eta 0:00:01\r\u001b[K     |█████████████████████████▏      | 1.8MB 26.7MB/s eta 0:00:01\r\u001b[K     |█████████████████████████▍      | 1.8MB 26.7MB/s eta 0:00:01\r\u001b[K     |█████████████████████████▌      | 1.8MB 26.7MB/s eta 0:00:01\r\u001b[K     |█████████████████████████▋      | 1.8MB 26.7MB/s eta 0:00:01\r\u001b[K     |█████████████████████████▉      | 1.8MB 26.7MB/s eta 0:00:01\r\u001b[K     |██████████████████████████      | 1.8MB 26.7MB/s eta 0:00:01\r\u001b[K     |██████████████████████████      | 1.8MB 26.7MB/s eta 0:00:01\r\u001b[K     |██████████████████████████▏     | 1.8MB 26.7MB/s eta 0:00:01\r\u001b[K     |██████████████████████████▍     | 1.9MB 26.7MB/s eta 0:00:01\r\u001b[K     |██████████████████████████▌     | 1.9MB 26.7MB/s eta 0:00:01\r\u001b[K     |██████████████████████████▋     | 1.9MB 26.7MB/s eta 0:00:01\r\u001b[K     |██████████████████████████▉     | 1.9MB 26.7MB/s eta 0:00:01\r\u001b[K     |███████████████████████████     | 1.9MB 26.7MB/s eta 0:00:01\r\u001b[K     |███████████████████████████     | 1.9MB 26.7MB/s eta 0:00:01\r\u001b[K     |███████████████████████████▎    | 1.9MB 26.7MB/s eta 0:00:01\r\u001b[K     |███████████████████████████▍    | 1.9MB 26.7MB/s eta 0:00:01\r\u001b[K     |███████████████████████████▌    | 1.9MB 26.7MB/s eta 0:00:01\r\u001b[K     |███████████████████████████▊    | 1.9MB 26.7MB/s eta 0:00:01\r\u001b[K     |███████████████████████████▉    | 2.0MB 26.7MB/s eta 0:00:01\r\u001b[K     |████████████████████████████    | 2.0MB 26.7MB/s eta 0:00:01\r\u001b[K     |████████████████████████████▏   | 2.0MB 26.7MB/s eta 0:00:01\r\u001b[K     |████████████████████████████▎   | 2.0MB 26.7MB/s eta 0:00:01\r\u001b[K     |████████████████████████████▍   | 2.0MB 26.7MB/s eta 0:00:01\r\u001b[K     |████████████████████████████▌   | 2.0MB 26.7MB/s eta 0:00:01\r\u001b[K     |████████████████████████████▊   | 2.0MB 26.7MB/s eta 0:00:01\r\u001b[K     |████████████████████████████▉   | 2.0MB 26.7MB/s eta 0:00:01\r\u001b[K     |█████████████████████████████   | 2.0MB 26.7MB/s eta 0:00:01\r\u001b[K     |█████████████████████████████▏  | 2.0MB 26.7MB/s eta 0:00:01\r\u001b[K     |█████████████████████████████▎  | 2.1MB 26.7MB/s eta 0:00:01\r\u001b[K     |█████████████████████████████▍  | 2.1MB 26.7MB/s eta 0:00:01\r\u001b[K     |█████████████████████████████▋  | 2.1MB 26.7MB/s eta 0:00:01\r\u001b[K     |█████████████████████████████▊  | 2.1MB 26.7MB/s eta 0:00:01\r\u001b[K     |█████████████████████████████▉  | 2.1MB 26.7MB/s eta 0:00:01\r\u001b[K     |██████████████████████████████  | 2.1MB 26.7MB/s eta 0:00:01\r\u001b[K     |██████████████████████████████▏ | 2.1MB 26.7MB/s eta 0:00:01\r\u001b[K     |██████████████████████████████▎ | 2.1MB 26.7MB/s eta 0:00:01\r\u001b[K     |██████████████████████████████▍ | 2.1MB 26.7MB/s eta 0:00:01\r\u001b[K     |██████████████████████████████▋ | 2.2MB 26.7MB/s eta 0:00:01\r\u001b[K     |██████████████████████████████▊ | 2.2MB 26.7MB/s eta 0:00:01\r\u001b[K     |██████████████████████████████▉ | 2.2MB 26.7MB/s eta 0:00:01\r\u001b[K     |███████████████████████████████ | 2.2MB 26.7MB/s eta 0:00:01\r\u001b[K     |███████████████████████████████▏| 2.2MB 26.7MB/s eta 0:00:01\r\u001b[K     |███████████████████████████████▎| 2.2MB 26.7MB/s eta 0:00:01\r\u001b[K     |███████████████████████████████▌| 2.2MB 26.7MB/s eta 0:00:01\r\u001b[K     |███████████████████████████████▋| 2.2MB 26.7MB/s eta 0:00:01\r\u001b[K     |███████████████████████████████▊| 2.2MB 26.7MB/s eta 0:00:01\r\u001b[K     |████████████████████████████████| 2.2MB 26.7MB/s eta 0:00:01\r\u001b[K     |████████████████████████████████| 2.3MB 26.7MB/s \n",
            "\u001b[?25hCollecting huggingface-hub==0.0.8\n",
            "  Downloading https://files.pythonhosted.org/packages/a1/88/7b1e45720ecf59c6c6737ff332f41c955963090a18e72acbcbeac6b25e86/huggingface_hub-0.0.8-py3-none-any.whl\n",
            "Requirement already satisfied: requests in /usr/local/lib/python3.7/dist-packages (from transformers) (2.23.0)\n",
            "Requirement already satisfied: regex!=2019.12.17 in /usr/local/lib/python3.7/dist-packages (from transformers) (2019.12.20)\n",
            "Requirement already satisfied: numpy>=1.17 in /usr/local/lib/python3.7/dist-packages (from transformers) (1.19.5)\n",
            "Requirement already satisfied: tqdm>=4.27 in /usr/local/lib/python3.7/dist-packages (from transformers) (4.41.1)\n",
            "Collecting tokenizers<0.11,>=0.10.1\n",
            "\u001b[?25l  Downloading https://files.pythonhosted.org/packages/ae/04/5b870f26a858552025a62f1649c20d29d2672c02ff3c3fb4c688ca46467a/tokenizers-0.10.2-cp37-cp37m-manylinux2010_x86_64.whl (3.3MB)\n",
            "\u001b[K     |████████████████████████████████| 3.3MB 45.1MB/s \n",
            "\u001b[?25hRequirement already satisfied: filelock in /usr/local/lib/python3.7/dist-packages (from transformers) (3.0.12)\n",
            "Requirement already satisfied: packaging in /usr/local/lib/python3.7/dist-packages (from transformers) (20.9)\n",
            "Collecting sacremoses\n",
            "\u001b[?25l  Downloading https://files.pythonhosted.org/packages/75/ee/67241dc87f266093c533a2d4d3d69438e57d7a90abb216fa076e7d475d4a/sacremoses-0.0.45-py3-none-any.whl (895kB)\n",
            "\u001b[K     |████████████████████████████████| 901kB 50.7MB/s \n",
            "\u001b[?25hRequirement already satisfied: importlib-metadata; python_version < \"3.8\" in /usr/local/lib/python3.7/dist-packages (from transformers) (4.0.1)\n",
            "Requirement already satisfied: chardet<4,>=3.0.2 in /usr/local/lib/python3.7/dist-packages (from requests->transformers) (3.0.4)\n",
            "Requirement already satisfied: certifi>=2017.4.17 in /usr/local/lib/python3.7/dist-packages (from requests->transformers) (2020.12.5)\n",
            "Requirement already satisfied: urllib3!=1.25.0,!=1.25.1,<1.26,>=1.21.1 in /usr/local/lib/python3.7/dist-packages (from requests->transformers) (1.24.3)\n",
            "Requirement already satisfied: idna<3,>=2.5 in /usr/local/lib/python3.7/dist-packages (from requests->transformers) (2.10)\n",
            "Requirement already satisfied: pyparsing>=2.0.2 in /usr/local/lib/python3.7/dist-packages (from packaging->transformers) (2.4.7)\n",
            "Requirement already satisfied: six in /usr/local/lib/python3.7/dist-packages (from sacremoses->transformers) (1.15.0)\n",
            "Requirement already satisfied: click in /usr/local/lib/python3.7/dist-packages (from sacremoses->transformers) (8.0.0)\n",
            "Requirement already satisfied: joblib in /usr/local/lib/python3.7/dist-packages (from sacremoses->transformers) (1.0.1)\n",
            "Requirement already satisfied: typing-extensions>=3.6.4; python_version < \"3.8\" in /usr/local/lib/python3.7/dist-packages (from importlib-metadata; python_version < \"3.8\"->transformers) (3.7.4.3)\n",
            "Requirement already satisfied: zipp>=0.5 in /usr/local/lib/python3.7/dist-packages (from importlib-metadata; python_version < \"3.8\"->transformers) (3.4.1)\n",
            "Installing collected packages: huggingface-hub, tokenizers, sacremoses, transformers\n",
            "Successfully installed huggingface-hub-0.0.8 sacremoses-0.0.45 tokenizers-0.10.2 transformers-4.6.1\n"
          ],
          "name": "stdout"
        }
      ]
    },
    {
      "cell_type": "code",
      "metadata": {
        "id": "x_3yLjGHD0fI"
      },
      "source": [
        "import torch\n",
        "import numpy as np\n",
        "import pandas as pd\n",
        "import pandas as pd\n",
        "from keras.models import Sequential\n",
        "from keras.layers import Input, Dense, Dropout\n",
        "from transformers import AutoTokenizer, AutoModel\n",
        "from sklearn.model_selection import train_test_split\n",
        "\n",
        "import matplotlib.pyplot as plt\n",
        "%matplotlib inline"
      ],
      "execution_count": null,
      "outputs": []
    },
    {
      "cell_type": "code",
      "metadata": {
        "colab": {
          "base_uri": "https://localhost:8080/",
          "height": 236,
          "referenced_widgets": [
            "3910000c972a4f9fa125ac24baaf0025",
            "39d734093a974f8fbfab53a88303264b",
            "7d96c96b948945c48142641067901591",
            "b54d387152284aca88891aa890bfbd9b",
            "9e11cfb79969462195a6777660cf56ab",
            "220b371c74e1489eb27e8938ae138e7a",
            "c57356d5c75b4ea2b386a3a0da11f735",
            "ac96faf39d694fd2881f11f8ad7377a2",
            "a907e27409574e3fa3cf99418c28cb10",
            "f42ce98847b64f95ac7a1b04b18cee15",
            "38b3a5f2471f4e6ead85f6f53eec7d89",
            "2cb55c30a12743dba8cfc024a3fdeb95",
            "0f352002569943bba90acd551bf358ca",
            "f5c3c0e920c54bd5b9390d2bfa539f24",
            "b547cc5f2332445c97f7712e4a764a08",
            "fcb546b8f4e147c692962bad0edf2742",
            "b347c1d6f39448239168c2dc049e5ec7",
            "dbcfd561e32b46a0a5f2705103f247fb",
            "94568b90ea874664a9ac4d631c4cd9e3",
            "7e6aa2eaaca744a7a7a16d93d4c39fc5",
            "4a471996cfdb4d01b4031411aeb46acb",
            "e924ee5fe9b645518a9220bbe1a393aa",
            "aadd65af007b4e67b11342bd21df5057",
            "fdde4b08a77f4ba0bfec9ce1ad87fe75"
          ]
        },
        "id": "b39FJHBBtkHv",
        "outputId": "ac6bb9c3-c113-450c-92cc-8430cae4d7f3"
      },
      "source": [
        "tokenizer = AutoTokenizer.from_pretrained('google/bert_uncased_L-4_H-256_A-4')\n",
        "model = AutoModel.from_pretrained('google/bert_uncased_L-4_H-256_A-4')"
      ],
      "execution_count": null,
      "outputs": [
        {
          "output_type": "display_data",
          "data": {
            "application/vnd.jupyter.widget-view+json": {
              "model_id": "3910000c972a4f9fa125ac24baaf0025",
              "version_minor": 0,
              "version_major": 2
            },
            "text/plain": [
              "HBox(children=(FloatProgress(value=0.0, description='Downloading', max=383.0, style=ProgressStyle(description_…"
            ]
          },
          "metadata": {
            "tags": []
          }
        },
        {
          "output_type": "stream",
          "text": [
            "\n"
          ],
          "name": "stdout"
        },
        {
          "output_type": "display_data",
          "data": {
            "application/vnd.jupyter.widget-view+json": {
              "model_id": "a907e27409574e3fa3cf99418c28cb10",
              "version_minor": 0,
              "version_major": 2
            },
            "text/plain": [
              "HBox(children=(FloatProgress(value=0.0, description='Downloading', max=231508.0, style=ProgressStyle(descripti…"
            ]
          },
          "metadata": {
            "tags": []
          }
        },
        {
          "output_type": "stream",
          "text": [
            "\n"
          ],
          "name": "stdout"
        },
        {
          "output_type": "display_data",
          "data": {
            "application/vnd.jupyter.widget-view+json": {
              "model_id": "b347c1d6f39448239168c2dc049e5ec7",
              "version_minor": 0,
              "version_major": 2
            },
            "text/plain": [
              "HBox(children=(FloatProgress(value=0.0, description='Downloading', max=45088961.0, style=ProgressStyle(descrip…"
            ]
          },
          "metadata": {
            "tags": []
          }
        },
        {
          "output_type": "stream",
          "text": [
            "\n"
          ],
          "name": "stdout"
        },
        {
          "output_type": "stream",
          "text": [
            "Some weights of the model checkpoint at google/bert_uncased_L-4_H-256_A-4 were not used when initializing BertModel: ['cls.predictions.transform.dense.weight', 'cls.predictions.transform.LayerNorm.weight', 'cls.predictions.bias', 'cls.seq_relationship.weight', 'cls.seq_relationship.bias', 'cls.predictions.decoder.weight', 'cls.predictions.transform.LayerNorm.bias', 'cls.predictions.transform.dense.bias', 'cls.predictions.decoder.bias']\n",
            "- This IS expected if you are initializing BertModel from the checkpoint of a model trained on another task or with another architecture (e.g. initializing a BertForSequenceClassification model from a BertForPreTraining model).\n",
            "- This IS NOT expected if you are initializing BertModel from the checkpoint of a model that you expect to be exactly identical (initializing a BertForSequenceClassification model from a BertForSequenceClassification model).\n"
          ],
          "name": "stderr"
        }
      ]
    },
    {
      "cell_type": "markdown",
      "metadata": {
        "id": "sOV05Fdqg3sT"
      },
      "source": [
        "We have a dataset containing 10,000 restaurant reviews on Yelp. Each review contains a star rating field (1 to 5) and a text field where the user comments on their experience at the restaurant.\n",
        "\n",
        "3-star and 4-star reviewers aren't likely to promote the restaurant to friends and colleagues. Read more about [Net Promoter Scores](https://en.wikipedia.org/wiki/Net_Promoter). Ratings of less than 5 stars oftenly include a negative component explaining why the rating was not 5 stars.\n",
        "\n",
        "Classify star ratings of 1, 2, 3, and 4 as negative (0). \n",
        "\n",
        "Classify star ratings of  5 as positive (1)."
      ]
    },
    {
      "cell_type": "code",
      "metadata": {
        "colab": {
          "base_uri": "https://localhost:8080/"
        },
        "id": "Xukgg9E1gxUF",
        "outputId": "eb8c9fff-273e-4466-ef5c-82265345d629"
      },
      "source": [
        "df = pd.read_csv('https://raw.githubusercontent.com/mayank100sharma/Sentiment-Analysis-on-Yelp-Reviews/master/yelp.csv').head(4000)\n",
        "df['sentiment'] = df['stars'].map({1:0, 2:0, 3:0, 4:0, 5:1})\n",
        "df['sentiment'].value_counts()"
      ],
      "execution_count": null,
      "outputs": [
        {
          "output_type": "execute_result",
          "data": {
            "text/plain": [
              "0    2654\n",
              "1    1346\n",
              "Name: sentiment, dtype: int64"
            ]
          },
          "metadata": {
            "tags": []
          },
          "execution_count": 4
        }
      ]
    },
    {
      "cell_type": "code",
      "metadata": {
        "id": "U3q_73KIkoyJ",
        "colab": {
          "base_uri": "https://localhost:8080/"
        },
        "outputId": "c52611ba-c842-449b-a254-8109cbc2b537"
      },
      "source": [
        "max_len = 180\n",
        "df['text'] = df['text'].str.split(n=max_len).str[:max_len].str.join(' ')\n",
        "tokenized = df['text'].apply((lambda x: tokenizer.encode(x, add_special_tokens=True)))\n",
        "padded = np.array([i[:min(max_len, len(i))] + [0]*(max_len-min(max_len, len(i))) for i in tokenized.values])\n",
        "attention_mask = np.where(padded != 0, 1, 0)\n",
        "\n",
        "print(padded.shape)\n",
        "print(attention_mask.shape)"
      ],
      "execution_count": null,
      "outputs": [
        {
          "output_type": "stream",
          "text": [
            "(4000, 180)\n",
            "(4000, 180)\n"
          ],
          "name": "stdout"
        }
      ]
    },
    {
      "cell_type": "code",
      "metadata": {
        "id": "81xnx61NmEHg"
      },
      "source": [
        "input = torch.tensor(padded)  \n",
        "attention_mask = torch.tensor(attention_mask)\n",
        "\n",
        "with torch.no_grad():\n",
        "    bert_output = model(input, attention_mask=attention_mask)"
      ],
      "execution_count": null,
      "outputs": []
    },
    {
      "cell_type": "code",
      "metadata": {
        "id": "XpEr975ymeXz",
        "colab": {
          "base_uri": "https://localhost:8080/"
        },
        "outputId": "38326873-e0cf-45d6-d806-7c60cf4e7e04"
      },
      "source": [
        "# Retrieve all sentences\n",
        "# Only retrieve the [CLS] token\n",
        "# Retrieve all units of output layer\n",
        "features = np.array(bert_output[0][:,0,:])\n",
        "labels = np.array(df['sentiment'])\n",
        "\n",
        "X_train, X_test, y_train, y_test = train_test_split(features, labels)\n",
        "\n",
        "classifier = Sequential()\n",
        "classifier.add(Input(shape=(256,)))\n",
        "classifier.add(Dense(1, activation='sigmoid'))\n",
        "classifier.summary()"
      ],
      "execution_count": null,
      "outputs": [
        {
          "output_type": "stream",
          "text": [
            "Model: \"sequential_5\"\n",
            "_________________________________________________________________\n",
            "Layer (type)                 Output Shape              Param #   \n",
            "=================================================================\n",
            "dense_10 (Dense)             (None, 1)                 257       \n",
            "=================================================================\n",
            "Total params: 257\n",
            "Trainable params: 257\n",
            "Non-trainable params: 0\n",
            "_________________________________________________________________\n"
          ],
          "name": "stdout"
        }
      ]
    },
    {
      "cell_type": "code",
      "metadata": {
        "id": "WmBAY4xMzzTz"
      },
      "source": [
        "classifier.compile(loss='binary_crossentropy', optimizer='adam', metrics='accuracy')\n",
        "history = classifier.fit(X_train, y_train, epochs=16, validation_split=0.05, verbose=0, batch_size=64)"
      ],
      "execution_count": null,
      "outputs": []
    },
    {
      "cell_type": "code",
      "metadata": {
        "colab": {
          "base_uri": "https://localhost:8080/",
          "height": 265
        },
        "id": "wrrSds-i1JRn",
        "outputId": "9efbdcba-9a77-422e-8b1b-6ed60c3edf98"
      },
      "source": [
        "fig, ax = plt.subplots()\n",
        "ax.plot(history.history['loss'], label='train loss')\n",
        "ax.plot(history.history['val_loss'], label='val loss')\n",
        "ax.legend()\n",
        "plt.show()"
      ],
      "execution_count": null,
      "outputs": [
        {
          "output_type": "display_data",
          "data": {
            "image/png": "[encoded data removed]",
            "text/plain": [
              "<Figure size 432x288 with 1 Axes>"
            ]
          },
          "metadata": {
            "tags": [],
            "needs_background": "light"
          }
        }
      ]
    },
    {
      "cell_type": "code",
      "metadata": {
        "colab": {
          "base_uri": "https://localhost:8080/"
        },
        "id": "iNrwQOHe0VFO",
        "outputId": "eb3f87bd-dcf4-400d-dba5-826ec0e058e8"
      },
      "source": [
        "loss, accuracy = classifier.evaluate(X_test, y_test)\n",
        "print(f'Accuracy: {round(100*accuracy, 1)}%')"
      ],
      "execution_count": null,
      "outputs": [
        {
          "output_type": "stream",
          "text": [
            "32/32 [==============================] - 0s 1ms/step - loss: 0.5239 - accuracy: 0.7300\n",
            "Accuracy: 73.0%\n"
          ],
          "name": "stdout"
        }
      ]
    },
    {
      "cell_type": "markdown",
      "metadata": {
        "id": "PClbkl3aXeXG"
      },
      "source": [
        "### Test on new data"
      ]
    },
    {
      "cell_type": "code",
      "metadata": {
        "id": "0FwzFxBa01Gg",
        "colab": {
          "base_uri": "https://localhost:8080/"
        },
        "outputId": "295064b9-0b61-4f59-aee7-b4a17f3bea68"
      },
      "source": [
        "sample = 'Our waiter took a long time. The food was cold. Overpriced.'\n",
        "sample_token = tokenizer.encode(sample, add_special_tokens=True)\n",
        "sample_padded = np.array(sample_token + [0]*(max_len-len(sample_token)))\n",
        "attention_mask = np.where(sample_padded != 0, 1, 0)\n",
        "\n",
        "sample_padded = np.reshape(sample_padded, newshape=(1,-1))\n",
        "attention_mask = np.reshape(attention_mask, newshape=(1,-1))\n",
        "\n",
        "input = torch.tensor(sample_padded)  \n",
        "attention_mask = torch.tensor(attention_mask)\n",
        "\n",
        "with torch.no_grad():\n",
        "    last_hidden_states = model(input, attention_mask=attention_mask)\n",
        "\n",
        "features = last_hidden_states[0][:,0,:].numpy()\n",
        "sample_prediction = classifier.predict(features)\n",
        "\n",
        "print(sample_prediction.flatten())\n",
        "if sample_prediction.flatten()[0] > 0.5:\n",
        "    print('Positive Sentiment')\n",
        "else:\n",
        "    print('Negative Sentiment')"
      ],
      "execution_count": null,
      "outputs": [
        {
          "output_type": "stream",
          "text": [
            "WARNING:tensorflow:6 out of the last 6 calls to <function Model.make_predict_function.<locals>.predict_function at 0x7fe74d528b90> triggered tf.function retracing. Tracing is expensive and the excessive number of tracings could be due to (1) creating @tf.function repeatedly in a loop, (2) passing tensors with different shapes, (3) passing Python objects instead of tensors. For (1), please define your @tf.function outside of the loop. For (2), @tf.function has experimental_relax_shapes=True option that relaxes argument shapes that can avoid unnecessary retracing. For (3), please refer to https://www.tensorflow.org/guide/function#controlling_retracing and https://www.tensorflow.org/api_docs/python/tf/function for  more details.\n",
            "[0.13900475]\n",
            "Negative Sentiment\n"
          ],
          "name": "stdout"
        }
      ]
    },
    {
      "cell_type": "markdown",
      "metadata": {
        "id": "TXk6lL0_rp9Z"
      },
      "source": [
        "Save the model"
      ]
    },
    {
      "cell_type": "code",
      "metadata": {
        "colab": {
          "base_uri": "https://localhost:8080/"
        },
        "id": "V8nJzcK9oDhK",
        "outputId": "0b981101-5854-4840-c488-142692531de5"
      },
      "source": [
        "classifier.save('drive/MyDrive/models')"
      ],
      "execution_count": null,
      "outputs": [
        {
          "output_type": "stream",
          "text": [
            "INFO:tensorflow:Assets written to: drive/MyDrive/models/assets\n"
          ],
          "name": "stdout"
        }
      ]
    },
    {
      "cell_type": "code",
      "metadata": {
        "id": "F8iw2SUKQhpI"
      },
      "source": [
        ""
      ],
      "execution_count": null,
      "outputs": []
    }
  ]
}